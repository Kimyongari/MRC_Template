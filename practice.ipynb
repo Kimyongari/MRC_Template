{
 "cells": [
  {
   "cell_type": "code",
   "execution_count": 1,
   "metadata": {},
   "outputs": [
    {
     "name": "stderr",
     "output_type": "stream",
     "text": [
      "/opt/conda/lib/python3.10/site-packages/tqdm/auto.py:21: TqdmWarning: IProgress not found. Please update jupyter and ipywidgets. See https://ipywidgets.readthedocs.io/en/stable/user_install.html\n",
      "  from .autonotebook import tqdm as notebook_tqdm\n",
      "[nltk_data] Downloading package punkt to\n",
      "[nltk_data]     /data/ephemeral/home/nltk_data...\n",
      "[nltk_data]   Package punkt is already up-to-date!\n"
     ]
    }
   ],
   "source": [
    "from arguments import Extraction_based_MRC_arguments\n",
    "from All_dataset import prepare_dataset\n",
    "from MRC import Extraction_based_MRC\n",
    "from retrieval import TF_IDFSearch"
   ]
  },
  {
   "cell_type": "code",
   "execution_count": 6,
   "metadata": {},
   "outputs": [
    {
     "name": "stderr",
     "output_type": "stream",
     "text": [
      "Token indices sequence length is longer than the specified maximum sequence length for this model (1335 > 512). Running this sequence through the model will result in indexing errors\n"
     ]
    },
    {
     "name": "stdout",
     "output_type": "stream",
     "text": [
      "Passage embedding을 만듭니다.\n",
      "p_embedding.shape : (56737, 50000)\n",
      "임베딩을 피클형태로 저장했습니다.\n",
      "Faiss indexer을 만듭니다.\n",
      "Faiss Indexer을 저장했습니다.\n",
      "쿼리당 15개의 문서를 faiss indexer을 통해 찾습니다.\n"
     ]
    },
    {
     "name": "stderr",
     "output_type": "stream",
     "text": [
      "Sparse retrieval: 100%|██████████| 600/600 [00:00<00:00, 25625.02it/s]\n"
     ]
    }
   ],
   "source": [
    "retrieval = TF_IDFSearch()\n",
    "retrieval.get_sparse_embedding()\n",
    "retrieval.build_faiss()\n",
    "result = retrieval.search_query()"
   ]
  },
  {
   "cell_type": "code",
   "execution_count": 1,
   "metadata": {},
   "outputs": [
    {
     "name": "stderr",
     "output_type": "stream",
     "text": [
      "/opt/conda/lib/python3.10/site-packages/tqdm/auto.py:21: TqdmWarning: IProgress not found. Please update jupyter and ipywidgets. See https://ipywidgets.readthedocs.io/en/stable/user_install.html\n",
      "  from .autonotebook import tqdm as notebook_tqdm\n",
      "/opt/conda/lib/python3.10/site-packages/huggingface_hub/file_download.py:1142: FutureWarning: `resume_download` is deprecated and will be removed in version 1.0.0. Downloads always resume when possible. If you want to force a new download, use `force_download=True`.\n",
      "  warnings.warn(\n",
      "Map: 100%|██████████| 3952/3952 [00:12<00:00, 310.66 examples/s]\n",
      "Map: 100%|██████████| 7978/7978 [00:07<00:00, 1031.55 examples/s]\n",
      "Map: 100%|██████████| 240/240 [00:00<00:00, 321.85 examples/s]\n"
     ]
    }
   ],
   "source": [
    "from All_dataset import prepare_dataset\n",
    "from arguments import Extraction_based_MRC_arguments\n",
    "\n",
    "data = prepare_dataset(Extraction_based_MRC_arguments())\n",
    "train = data.get_mrc_train_dataset()\n",
    "valid = data.get_mrc_eval_dataset()"
   ]
  },
  {
   "cell_type": "code",
   "execution_count": 3,
   "metadata": {},
   "outputs": [
    {
     "data": {
      "text/plain": [
       "Dataset({\n",
       "    features: ['input_ids', 'token_type_ids', 'attention_mask', 'offset_mapping', 'example_id', 'start_positions', 'end_positions'],\n",
       "    num_rows: 474\n",
       "})"
      ]
     },
     "execution_count": 3,
     "metadata": {},
     "output_type": "execute_result"
    }
   ],
   "source": [
    "valid"
   ]
  },
  {
   "cell_type": "code",
   "execution_count": null,
   "metadata": {},
   "outputs": [],
   "source": []
  }
 ],
 "metadata": {
  "kernelspec": {
   "display_name": "base",
   "language": "python",
   "name": "python3"
  },
  "language_info": {
   "codemirror_mode": {
    "name": "ipython",
    "version": 3
   },
   "file_extension": ".py",
   "mimetype": "text/x-python",
   "name": "python",
   "nbconvert_exporter": "python",
   "pygments_lexer": "ipython3",
   "version": "3.10.13"
  }
 },
 "nbformat": 4,
 "nbformat_minor": 2
}
